{
 "cells": [
  {
   "cell_type": "markdown",
   "id": "45df560a-d190-42c8-817d-de3537eee6d2",
   "metadata": {},
   "source": [
    "# Evaluate the performance of Fine-tune model predicting half-life of mRNAs based on 3' UTRs"
   ]
  },
  {
   "cell_type": "code",
   "execution_count": 1,
   "id": "7304cb54-c908-4334-8aa6-bb0c0a369498",
   "metadata": {
    "tags": []
   },
   "outputs": [
    {
     "name": "stderr",
     "output_type": "stream",
     "text": [
      "/opt/anaconda3/envs/torch201/lib/python3.11/site-packages/pandas/core/arrays/masked.py:60: UserWarning: Pandas requires version '1.3.6' or newer of 'bottleneck' (version '1.3.5' currently installed).\n",
      "  from pandas.core import (\n"
     ]
    }
   ],
   "source": [
    "from LaMorena.sequence_classification_patch import EsmForSequenceClassification\n",
    "from transformers import AutoConfig, AutoTokenizer\n",
    "from torch.utils.data import Dataset, DataLoader\n",
    "import torch\n",
    "import tqdm\n",
    "import numpy as np\n",
    "import pandas as pd\n",
    "from safetensors.torch import load_file, load_model\n",
    "import os\n",
    "import matplotlib.pyplot as plt"
   ]
  },
  {
   "cell_type": "code",
   "execution_count": 2,
   "id": "a099e2ca-8665-410a-82d3-c0c0b16e2c6d",
   "metadata": {
    "tags": []
   },
   "outputs": [],
   "source": [
    "os.chdir('/picb/rnasys2/zhouhanwen/nucTran/github/')"
   ]
  },
  {
   "cell_type": "code",
   "execution_count": 3,
   "id": "cad67535-11ba-4467-9ec6-0338eb438f80",
   "metadata": {
    "tags": []
   },
   "outputs": [],
   "source": [
    "# Tokenizer\n",
    "tokenizer_path = 'tokenizer/single_nucleotide/'\n",
    "model_max_length = 1026\n",
    "tokenizer = AutoTokenizer.from_pretrained(tokenizer_path, model_max_length=model_max_length, padding_side='left')\n",
    "\n",
    "# Config\n",
    "model_name = 'config/config_150M.json'\n",
    "token_dropout = False\n",
    "positional_embedding_type = 'rotary'\n",
    "nlabels = 1\n",
    "hidden_size = 768\n",
    "intermediate_size = 3072\n",
    "num_attention_heads = 12\n",
    "num_hidden_layers = 12\n",
    "config = AutoConfig.from_pretrained(\n",
    "    model_name, vocab_size=len(tokenizer), pad_token_id=tokenizer.pad_token_id, mask_token_id=tokenizer.mask_token_id, num_labels=nlabels, \n",
    "    token_dropout=token_dropout, positional_embedding_type=positional_embedding_type, \n",
    "    hidden_size=hidden_size, intermediate_size=intermediate_size, num_attention_heads=num_attention_heads, num_hidden_layers=num_hidden_layers\n",
    ")"
   ]
  },
  {
   "cell_type": "code",
   "execution_count": 4,
   "id": "babc8a11-7992-4c01-9e08-fd833fbf16ba",
   "metadata": {
    "tags": []
   },
   "outputs": [],
   "source": [
    "# Inference data\n",
    "seq_df = pd.read_csv('UTR3DegPred/data/DavidErle/training/validation_set.csv')\n",
    "seqs = seq_df['seq'].values.tolist()\n",
    "true_labels = seq_df['label'].values.tolist()"
   ]
  },
  {
   "cell_type": "code",
   "execution_count": 5,
   "id": "9ba3bdcc-ee9d-4731-aa45-1458468ba959",
   "metadata": {
    "tags": []
   },
   "outputs": [],
   "source": [
    "# Model\n",
    "device = torch.device('cuda:0')\n",
    "model_state_path = 'UTR3DegPred/saving_model/DavidErle/mammalian_4096/mammalian80D_4096len1mer1sw_80M_250k_DegPred_DavidErle_2_bs8_lr5e-5_wr0.05_16epochs/checkpoint-3180/model.safetensors'\n",
    "model = EsmForSequenceClassification(config, head_type='Linear', freeze=False, kernel_sizes=None, ocs=None)\n",
    "model = model.to(device)\n",
    "if model_state_path.endswith('.safetensors'):\n",
    "    load_model(model, filename=model_state_path, strict=True)\n",
    "elif model_state_path.endswith('.bin'):\n",
    "    model.load_state_dict(torch.load(model_state_path), strict=True)"
   ]
  },
  {
   "cell_type": "code",
   "execution_count": 6,
   "id": "ff8533b1-41ec-47ff-ad30-950a6a665692",
   "metadata": {
    "tags": []
   },
   "outputs": [
    {
     "name": "stderr",
     "output_type": "stream",
     "text": [
      "100%|█████████████████████████████████████████████████████████████████████████████████| 196/196 [00:04<00:00, 48.02it/s]\n"
     ]
    }
   ],
   "source": [
    "predict_labels = []\n",
    "model.eval()\n",
    "with torch.no_grad():\n",
    "    for seq in tqdm.tqdm(seqs):\n",
    "        batch = tokenizer(seq, return_tensors='pt', padding=True)\n",
    "        input_ids = batch['input_ids']\n",
    "        attention_mask = batch['attention_mask']\n",
    "\n",
    "        input_ids = input_ids.to(device)\n",
    "        attention_mask = attention_mask.to(device)\n",
    "\n",
    "        model_output = model(\n",
    "            input_ids = input_ids,\n",
    "            attention_mask = attention_mask,\n",
    "            position_ids = None,\n",
    "            head_mask = None,\n",
    "            inputs_embeds = None,\n",
    "            labels = None,\n",
    "            output_attentions = None,\n",
    "            output_hidden_states = None,\n",
    "            return_dict = None\n",
    "        )\n",
    "        batch_logits = model_output.logits\n",
    "        predict_labels.extend(batch_logits.tolist()[0])"
   ]
  },
  {
   "cell_type": "code",
   "execution_count": 7,
   "id": "6619439f-5995-4fc7-b73d-f2ec12f562f2",
   "metadata": {
    "tags": []
   },
   "outputs": [],
   "source": [
    "result_df = pd.DataFrame({'predict': predict_labels, 'true': true_labels})\n",
    "mse = np.mean((np.array(predict_labels) - np.array(true_labels)) ** 2)\n",
    "pearson_corr_coef = result_df.corr(method='pearson').iloc[0, 1]\n",
    "spearman_corr_coef = result_df.corr(method='spearman').iloc[0, 1]"
   ]
  },
  {
   "cell_type": "code",
   "execution_count": 8,
   "id": "5f07c3f3-6316-49c5-8651-bc1a9ba8e1f2",
   "metadata": {
    "tags": []
   },
   "outputs": [
    {
     "name": "stdout",
     "output_type": "stream",
     "text": [
      "0.16963906057076436\n",
      "0.6498806108186871\n",
      "0.6647705074255787\n"
     ]
    }
   ],
   "source": [
    "print(mse)\n",
    "print(pearson_corr_coef)\n",
    "print(spearman_corr_coef)"
   ]
  },
  {
   "cell_type": "code",
   "execution_count": null,
   "id": "345d6df3-5e95-4357-99fb-58f6559d9b94",
   "metadata": {},
   "outputs": [],
   "source": []
  }
 ],
 "metadata": {
  "kernelspec": {
   "display_name": "torch201",
   "language": "python",
   "name": "torch201"
  },
  "language_info": {
   "codemirror_mode": {
    "name": "ipython",
    "version": 3
   },
   "file_extension": ".py",
   "mimetype": "text/x-python",
   "name": "python",
   "nbconvert_exporter": "python",
   "pygments_lexer": "ipython3",
   "version": "3.11.8"
  }
 },
 "nbformat": 4,
 "nbformat_minor": 5
}
