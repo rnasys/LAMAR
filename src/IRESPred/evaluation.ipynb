{
 "cells": [
  {
   "cell_type": "markdown",
   "id": "b98ffa9a-0670-4588-97bd-de18a0e027dd",
   "metadata": {},
   "source": [
    "# Evaluate the performance of fine-tuned model predicting IRES"
   ]
  },
  {
   "cell_type": "code",
   "execution_count": 1,
   "id": "6a875d4d-3176-40bc-a9ac-6e9ae3202707",
   "metadata": {
    "tags": []
   },
   "outputs": [
    {
     "name": "stderr",
     "output_type": "stream",
     "text": [
      "/opt/anaconda3/envs/torch201/lib/python3.11/site-packages/pandas/core/arrays/masked.py:60: UserWarning: Pandas requires version '1.3.6' or newer of 'bottleneck' (version '1.3.5' currently installed).\n",
      "  from pandas.core import (\n"
     ]
    }
   ],
   "source": [
    "from LAMAR.sequence_classification_patch import EsmForSequenceClassification\n",
    "from transformers import AutoConfig, AutoTokenizer\n",
    "from torch.utils.data import Dataset, DataLoader\n",
    "import torch\n",
    "from torch import nn\n",
    "import tqdm\n",
    "import numpy as np\n",
    "from sklearn.metrics import precision_score, accuracy_score, recall_score, f1_score, roc_auc_score, precision_recall_curve, auc\n",
    "import pandas as pd\n",
    "from safetensors.torch import load_file, load_model\n",
    "import os"
   ]
  },
  {
   "cell_type": "code",
   "execution_count": 2,
   "id": "bd33955c-8bcc-4fab-8028-a61abf42a266",
   "metadata": {
    "tags": []
   },
   "outputs": [],
   "source": [
    "os.chdir('/picb/rnasys2/zhouhanwen/github/LAMAR/')"
   ]
  },
  {
   "cell_type": "code",
   "execution_count": 3,
   "id": "cb40e8af-b68c-4174-b44f-19bbc6caf651",
   "metadata": {
    "tags": []
   },
   "outputs": [],
   "source": [
    "# Tokenizer\n",
    "tokenizer_path = 'tokenizer/single_nucleotide/'\n",
    "model_max_length = 1500\n",
    "tokenizer = AutoTokenizer.from_pretrained(tokenizer_path, model_max_length=model_max_length)\n",
    "\n",
    "# Config\n",
    "model_name = 'config/config_150M.json'\n",
    "token_dropout = False\n",
    "positional_embedding_type = 'rotary'\n",
    "nlabels = 2\n",
    "hidden_size = 768\n",
    "intermediate_size = 3072\n",
    "num_attention_heads = 12\n",
    "num_hidden_layers = 12\n",
    "config = AutoConfig.from_pretrained(\n",
    "    model_name, vocab_size=len(tokenizer), pad_token_id=tokenizer.pad_token_id, mask_token_id=tokenizer.mask_token_id, num_labels=nlabels, \n",
    "    token_dropout=token_dropout, positional_embedding_type=positional_embedding_type, \n",
    "    hidden_size=hidden_size, intermediate_size=intermediate_size, num_attention_heads=num_attention_heads, num_hidden_layers=num_hidden_layers\n",
    ")"
   ]
  },
  {
   "cell_type": "code",
   "execution_count": 4,
   "id": "1198ea8a-be60-4bc1-a33f-502125b0ae3b",
   "metadata": {
    "tags": []
   },
   "outputs": [],
   "source": [
    "def compute_pr_auc(true_ids, probs):\n",
    "    \"\"\"\n",
    "    Compute the PR-AUC score\n",
    "    Input:\n",
    "        true_ids\n",
    "        logits, raw model logits\n",
    "    Return:\n",
    "        pr_auc, float\n",
    "    \"\"\"\n",
    "    \n",
    "    precision, recall, threshold = precision_recall_curve(true_ids, probs)\n",
    "    pr_auc = auc(recall, precision)\n",
    "    \n",
    "    return pr_auc"
   ]
  },
  {
   "cell_type": "code",
   "execution_count": 5,
   "id": "73d59cab-6eaf-4c63-8acd-fe62c4545b4d",
   "metadata": {
    "tags": []
   },
   "outputs": [],
   "source": [
    "# Inference data\n",
    "seq_df = pd.read_csv('IRESPred/data/testing_set.Pos1Fold.Train1Fold.4.csv')\n",
    "seqs = seq_df['seq'].values.tolist()\n",
    "true_labels = seq_df['label'].values.tolist()"
   ]
  },
  {
   "cell_type": "code",
   "execution_count": 6,
   "id": "1f88e50a-ad47-46a8-a21e-2394b85cf080",
   "metadata": {
    "tags": []
   },
   "outputs": [],
   "source": [
    "# Model\n",
    "device = torch.device('cuda:0')\n",
    "model_state_path = 'IRESPred/saving_model/mammalian_2048/bs16_lr1e-4_wr0.05_4epochs_4/checkpoint-460/pytorch_model.bin'\n",
    "model = EsmForSequenceClassification(config, head_type='Linear', freeze=False, kernel_sizes=None, ocs=None)\n",
    "model = model.to(device)\n",
    "if model_state_path.endswith('.safetensors'):\n",
    "    load_model(model, filename=model_state_path, strict=True)\n",
    "elif model_state_path.endswith('.bin'):\n",
    "    model.load_state_dict(torch.load(model_state_path), strict=True)"
   ]
  },
  {
   "cell_type": "code",
   "execution_count": 7,
   "id": "fe0d93cb-2714-4d0f-91a1-ab751b323d57",
   "metadata": {
    "tags": []
   },
   "outputs": [
    {
     "name": "stderr",
     "output_type": "stream",
     "text": [
      "100%|███████████████████████████████████████████████████████████████████████████████| 1952/1952 [00:36<00:00, 53.12it/s]\n"
     ]
    }
   ],
   "source": [
    "softmax = nn.Softmax(dim=1)\n",
    "predict_labels, predict_probs = [], []\n",
    "model.eval()\n",
    "with torch.no_grad():\n",
    "    for seq in tqdm.tqdm(seqs):\n",
    "        batch = tokenizer(seq, return_tensors='pt')\n",
    "        input_ids = batch['input_ids']\n",
    "        attention_mask = batch['attention_mask']\n",
    "        input_ids = input_ids.to(device)\n",
    "        attention_mask = attention_mask.to(device)\n",
    "        model_output = model(\n",
    "            input_ids = input_ids,\n",
    "            attention_mask = attention_mask,\n",
    "            position_ids = None,\n",
    "            head_mask = None,\n",
    "            inputs_embeds = None,\n",
    "            labels = None,\n",
    "            output_attentions = None,\n",
    "            output_hidden_states = None,\n",
    "            return_dict = None\n",
    "        )\n",
    "        batch_logits = model_output.logits\n",
    "        predict_probs.extend(softmax(batch_logits)[:, 1].tolist())\n",
    "        predict_labels.extend(batch_logits.argmax(dim=1).tolist())"
   ]
  },
  {
   "cell_type": "code",
   "execution_count": 8,
   "id": "35d80293-5b75-4381-a133-a50a7de03bb0",
   "metadata": {
    "tags": []
   },
   "outputs": [
    {
     "data": {
      "text/html": [
       "<div>\n",
       "<style scoped>\n",
       "    .dataframe tbody tr th:only-of-type {\n",
       "        vertical-align: middle;\n",
       "    }\n",
       "\n",
       "    .dataframe tbody tr th {\n",
       "        vertical-align: top;\n",
       "    }\n",
       "\n",
       "    .dataframe thead th {\n",
       "        text-align: right;\n",
       "    }\n",
       "</style>\n",
       "<table border=\"1\" class=\"dataframe\">\n",
       "  <thead>\n",
       "    <tr style=\"text-align: right;\">\n",
       "      <th>col_0</th>\n",
       "      <th>0</th>\n",
       "      <th>1</th>\n",
       "    </tr>\n",
       "    <tr>\n",
       "      <th>row_0</th>\n",
       "      <th></th>\n",
       "      <th></th>\n",
       "    </tr>\n",
       "  </thead>\n",
       "  <tbody>\n",
       "    <tr>\n",
       "      <th>0</th>\n",
       "      <td>908</td>\n",
       "      <td>42</td>\n",
       "    </tr>\n",
       "    <tr>\n",
       "      <th>1</th>\n",
       "      <td>63</td>\n",
       "      <td>939</td>\n",
       "    </tr>\n",
       "  </tbody>\n",
       "</table>\n",
       "</div>"
      ],
      "text/plain": [
       "col_0    0    1\n",
       "row_0          \n",
       "0      908   42\n",
       "1       63  939"
      ]
     },
     "execution_count": 8,
     "metadata": {},
     "output_type": "execute_result"
    }
   ],
   "source": [
    "pd.crosstab(true_labels, predict_labels)"
   ]
  },
  {
   "cell_type": "code",
   "execution_count": 9,
   "id": "5a066522-9af6-4cea-b52b-9acc3a33c0be",
   "metadata": {
    "tags": []
   },
   "outputs": [
    {
     "name": "stdout",
     "output_type": "stream",
     "text": [
      "0.957\n",
      "0.937\n",
      "0.947\n",
      "0.985\n",
      "0.986\n"
     ]
    }
   ],
   "source": [
    "print('%.3f' % precision_score(true_labels, predict_labels))\n",
    "print('%.3f' % recall_score(true_labels, predict_labels))\n",
    "print('%.3f' % f1_score(true_labels, predict_labels))\n",
    "print('%.3f' % roc_auc_score(true_labels, predict_probs))\n",
    "print('%.3f' % compute_pr_auc(true_labels, predict_probs))"
   ]
  },
  {
   "cell_type": "code",
   "execution_count": null,
   "id": "79572273-5d85-4229-8085-49a291830165",
   "metadata": {},
   "outputs": [],
   "source": []
  }
 ],
 "metadata": {
  "kernelspec": {
   "display_name": "torch201",
   "language": "python",
   "name": "torch201"
  },
  "language_info": {
   "codemirror_mode": {
    "name": "ipython",
    "version": 3
   },
   "file_extension": ".py",
   "mimetype": "text/x-python",
   "name": "python",
   "nbconvert_exporter": "python",
   "pygments_lexer": "ipython3",
   "version": "3.11.8"
  }
 },
 "nbformat": 4,
 "nbformat_minor": 5
}
