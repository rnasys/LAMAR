{
 "cells": [
  {
   "cell_type": "markdown",
   "id": "7c71be82-cb50-4c5f-8cce-96b42c669b99",
   "metadata": {},
   "source": [
    "# Tokenize IRES fine-tuning dataset"
   ]
  },
  {
   "cell_type": "code",
   "execution_count": 1,
   "id": "f5928061-e65d-4f69-a16e-8887a30e052b",
   "metadata": {
    "tags": []
   },
   "outputs": [
    {
     "name": "stderr",
     "output_type": "stream",
     "text": [
      "/opt/anaconda3/envs/torch201/lib/python3.11/site-packages/pandas/core/arrays/masked.py:60: UserWarning: Pandas requires version '1.3.6' or newer of 'bottleneck' (version '1.3.5' currently installed).\n",
      "  from pandas.core import (\n"
     ]
    }
   ],
   "source": [
    "from transformers import AutoTokenizer\n",
    "from datasets import load_dataset\n",
    "import multiprocessing as mp\n",
    "import os"
   ]
  },
  {
   "cell_type": "code",
   "execution_count": 2,
   "id": "2d9032ab-07d8-4710-9a46-af3c2959e26c",
   "metadata": {
    "tags": []
   },
   "outputs": [],
   "source": [
    "os.chdir('/picb/rnasys2/zhouhanwen/github/LAMAR/')"
   ]
  },
  {
   "cell_type": "code",
   "execution_count": 3,
   "id": "96d90e2a-5fce-4b81-8940-57e0a85b3ef0",
   "metadata": {
    "tags": []
   },
   "outputs": [],
   "source": [
    "# tokenizer\n",
    "tokenizer = AutoTokenizer.from_pretrained('tokenizer/single_nucleotide/', model_max_length=1500)"
   ]
  },
  {
   "cell_type": "code",
   "execution_count": 4,
   "id": "129db044-7200-4c9f-873b-2477572c43d9",
   "metadata": {
    "tags": []
   },
   "outputs": [],
   "source": [
    "def group_texts(examples):\n",
    "    tokenized_inputs = tokenizer(examples[\"seq\"], truncation=True, max_length=tokenizer.model_max_length)\n",
    "    tokenized_inputs[\"labels\"] = examples[\"label\"]\n",
    "    return tokenized_inputs"
   ]
  },
  {
   "cell_type": "code",
   "execution_count": 5,
   "id": "33b903cd-811c-40a2-92e1-cae17725d0ca",
   "metadata": {
    "tags": []
   },
   "outputs": [],
   "source": [
    "# paths of training set and testing set\n",
    "train_set_path = 'IRESPred/data/training_set.Pos1Fold.Train1Fold.4.csv'\n",
    "test_set_path = 'IRESPred/data/testing_set.Pos1Fold.Train1Fold.4.csv'\n",
    "# path of saving file\n",
    "data_path = 'IRESPred/data/IRES_4'"
   ]
  },
  {
   "cell_type": "code",
   "execution_count": 6,
   "id": "6672ae73-fc2d-4faa-9d9d-67cd081a4d34",
   "metadata": {
    "tags": []
   },
   "outputs": [
    {
     "name": "stdout",
     "output_type": "stream",
     "text": [
      "Downloading and preparing dataset csv/default to /home/zhouhanwen/.cache/huggingface/datasets/csv/default-030591bb7a3c6687/0.0.0/6954658bab30a358235fa864b05cf819af0e179325c740e4bc853bcc7ec513e1...\n"
     ]
    },
    {
     "data": {
      "application/vnd.jupyter.widget-view+json": {
       "model_id": "196dc70da01a43f58882df15731ebf2f",
       "version_major": 2,
       "version_minor": 0
      },
      "text/plain": [
       "Downloading data files:   0%|          | 0/2 [00:00<?, ?it/s]"
      ]
     },
     "metadata": {},
     "output_type": "display_data"
    },
    {
     "data": {
      "application/vnd.jupyter.widget-view+json": {
       "model_id": "2a3c3c8fdebf4a5b8c36cba3b0c843b5",
       "version_major": 2,
       "version_minor": 0
      },
      "text/plain": [
       "Extracting data files:   0%|          | 0/2 [00:00<?, ?it/s]"
      ]
     },
     "metadata": {},
     "output_type": "display_data"
    },
    {
     "data": {
      "application/vnd.jupyter.widget-view+json": {
       "model_id": "",
       "version_major": 2,
       "version_minor": 0
      },
      "text/plain": [
       "Generating train split: 0 examples [00:00, ? examples/s]"
      ]
     },
     "metadata": {},
     "output_type": "display_data"
    },
    {
     "name": "stderr",
     "output_type": "stream",
     "text": [
      "/opt/anaconda3/envs/torch201/lib/python3.11/site-packages/datasets/download/streaming_download_manager.py:789: FutureWarning: The 'verbose' keyword in pd.read_csv is deprecated and will be removed in a future version.\n",
      "  return pd.read_csv(xopen(filepath_or_buffer, \"rb\", use_auth_token=use_auth_token), **kwargs)\n"
     ]
    },
    {
     "data": {
      "application/vnd.jupyter.widget-view+json": {
       "model_id": "",
       "version_major": 2,
       "version_minor": 0
      },
      "text/plain": [
       "Generating test split: 0 examples [00:00, ? examples/s]"
      ]
     },
     "metadata": {},
     "output_type": "display_data"
    },
    {
     "name": "stdout",
     "output_type": "stream",
     "text": [
      "Dataset csv downloaded and prepared to /home/zhouhanwen/.cache/huggingface/datasets/csv/default-030591bb7a3c6687/0.0.0/6954658bab30a358235fa864b05cf819af0e179325c740e4bc853bcc7ec513e1. Subsequent calls will reuse this data.\n"
     ]
    },
    {
     "name": "stderr",
     "output_type": "stream",
     "text": [
      "/opt/anaconda3/envs/torch201/lib/python3.11/site-packages/datasets/download/streaming_download_manager.py:789: FutureWarning: The 'verbose' keyword in pd.read_csv is deprecated and will be removed in a future version.\n",
      "  return pd.read_csv(xopen(filepath_or_buffer, \"rb\", use_auth_token=use_auth_token), **kwargs)\n"
     ]
    },
    {
     "data": {
      "application/vnd.jupyter.widget-view+json": {
       "model_id": "af22566291b2417fb8a72a13416f3589",
       "version_major": 2,
       "version_minor": 0
      },
      "text/plain": [
       "  0%|          | 0/2 [00:00<?, ?it/s]"
      ]
     },
     "metadata": {},
     "output_type": "display_data"
    },
    {
     "data": {
      "application/vnd.jupyter.widget-view+json": {
       "model_id": "",
       "version_major": 2,
       "version_minor": 0
      },
      "text/plain": [
       "Map (num_proc=160):   0%|          | 0/1850 [00:00<?, ? examples/s]"
      ]
     },
     "metadata": {},
     "output_type": "display_data"
    },
    {
     "data": {
      "application/vnd.jupyter.widget-view+json": {
       "model_id": "",
       "version_major": 2,
       "version_minor": 0
      },
      "text/plain": [
       "Map (num_proc=160):   0%|          | 0/1952 [00:00<?, ? examples/s]"
      ]
     },
     "metadata": {},
     "output_type": "display_data"
    },
    {
     "data": {
      "application/vnd.jupyter.widget-view+json": {
       "model_id": "",
       "version_major": 2,
       "version_minor": 0
      },
      "text/plain": [
       "Saving the dataset (0/160 shards):   0%|          | 0/1850 [00:00<?, ? examples/s]"
      ]
     },
     "metadata": {},
     "output_type": "display_data"
    },
    {
     "data": {
      "application/vnd.jupyter.widget-view+json": {
       "model_id": "",
       "version_major": 2,
       "version_minor": 0
      },
      "text/plain": [
       "Saving the dataset (0/160 shards):   0%|          | 0/1952 [00:00<?, ? examples/s]"
      ]
     },
     "metadata": {},
     "output_type": "display_data"
    }
   ],
   "source": [
    "dataset = load_dataset(\"csv\", data_files={'train': train_set_path, 'test': test_set_path})\n",
    "data = dataset.map(group_texts, batched=True, num_proc=mp.cpu_count())\n",
    "data.save_to_disk(data_path, num_proc=mp.cpu_count())"
   ]
  },
  {
   "cell_type": "code",
   "execution_count": 7,
   "id": "d45762b9-4928-4859-9aae-fdc460647d89",
   "metadata": {
    "tags": []
   },
   "outputs": [
    {
     "data": {
      "text/plain": [
       "DatasetDict({\n",
       "    train: Dataset({\n",
       "        features: ['seq', 'label', 'input_ids', 'attention_mask', 'labels'],\n",
       "        num_rows: 1850\n",
       "    })\n",
       "    test: Dataset({\n",
       "        features: ['seq', 'label', 'input_ids', 'attention_mask', 'labels'],\n",
       "        num_rows: 1952\n",
       "    })\n",
       "})"
      ]
     },
     "execution_count": 7,
     "metadata": {},
     "output_type": "execute_result"
    }
   ],
   "source": [
    "data"
   ]
  }
 ],
 "metadata": {
  "kernelspec": {
   "display_name": "torch201",
   "language": "python",
   "name": "torch201"
  },
  "language_info": {
   "codemirror_mode": {
    "name": "ipython",
    "version": 3
   },
   "file_extension": ".py",
   "mimetype": "text/x-python",
   "name": "python",
   "nbconvert_exporter": "python",
   "pygments_lexer": "ipython3",
   "version": "3.11.8"
  }
 },
 "nbformat": 4,
 "nbformat_minor": 5
}
