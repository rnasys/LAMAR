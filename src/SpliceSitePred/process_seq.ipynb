{
 "cells": [
  {
   "cell_type": "markdown",
   "id": "fe311746-db02-44be-99d3-afbc7f7ced44",
   "metadata": {},
   "source": [
    "# Split pre-mRNAs and label splice sites"
   ]
  },
  {
   "cell_type": "markdown",
   "id": "a6766bbb-bd09-4742-ae0f-810217265271",
   "metadata": {},
   "source": [
    "1. Build a bed file (chrom, start, end, strand) and extract pre-mRNA sequences;  \n",
    "2. Label pre-mRNA sequences;  \n",
    "3. Pad pre-mRNA sequences and split them using a sliding window"
   ]
  },
  {
   "cell_type": "code",
   "execution_count": 1,
   "id": "52ecca51-be6a-4062-8881-b56d9a66acc5",
   "metadata": {
    "tags": []
   },
   "outputs": [
    {
     "name": "stderr",
     "output_type": "stream",
     "text": [
      "/opt/anaconda3/envs/torch201/lib/python3.11/site-packages/pandas/core/arrays/masked.py:60: UserWarning: Pandas requires version '1.3.6' or newer of 'bottleneck' (version '1.3.5' currently installed).\n",
      "  from pandas.core import (\n"
     ]
    }
   ],
   "source": [
    "from process_seq import process_seq\n",
    "import os"
   ]
  },
  {
   "cell_type": "code",
   "execution_count": 2,
   "id": "59a0b3f0-8756-434b-b8a2-ae2a2a170f27",
   "metadata": {
    "tags": []
   },
   "outputs": [],
   "source": [
    "os.chdir('/picb/rnasys2/zhouhanwen/github/LAMAR/SpliceSitePred/data/')"
   ]
  },
  {
   "cell_type": "code",
   "execution_count": 3,
   "id": "63ad2d65-b068-43d2-96dc-9ccad49f7e16",
   "metadata": {},
   "outputs": [
    {
     "name": "stderr",
     "output_type": "stream",
     "text": [
      "3304it [00:00, 38788.10it/s]\n",
      "100%|███████████████████████████████████████████████████████████████████████████████| 1652/1652 [00:33<00:00, 48.71it/s]\n"
     ]
    }
   ],
   "source": [
    "process_seq('gencode_test.fa', 'gencode_test.tsv', 'gencode_test.json', method='splice site')"
   ]
  },
  {
   "cell_type": "code",
   "execution_count": 4,
   "id": "9bfef8ed-4987-48b5-8b4b-56d22246395f",
   "metadata": {
    "tags": []
   },
   "outputs": [
    {
     "name": "stderr",
     "output_type": "stream",
     "text": [
      "26768it [00:00, 33503.15it/s]\n",
      "100%|█████████████████████████████████████████████████████████████████████████████| 13384/13384 [06:03<00:00, 36.80it/s]\n"
     ]
    }
   ],
   "source": [
    "process_seq('gencode_train.fa', 'gencode_train.tsv', 'gencode_train.json', method='splice site')"
   ]
  },
  {
   "cell_type": "code",
   "execution_count": null,
   "id": "f83e2d0e-68b5-43ca-b011-1c9e16340ba9",
   "metadata": {},
   "outputs": [],
   "source": []
  }
 ],
 "metadata": {
  "kernelspec": {
   "display_name": "torch201",
   "language": "python",
   "name": "torch201"
  },
  "language_info": {
   "codemirror_mode": {
    "name": "ipython",
    "version": 3
   },
   "file_extension": ".py",
   "mimetype": "text/x-python",
   "name": "python",
   "nbconvert_exporter": "python",
   "pygments_lexer": "ipython3",
   "version": "3.11.8"
  }
 },
 "nbformat": 4,
 "nbformat_minor": 5
}
