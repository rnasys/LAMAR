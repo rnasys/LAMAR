{
 "cells": [
  {
   "cell_type": "markdown",
   "id": "65086c2f-fb04-4a8c-b352-6e9b6ada77b2",
   "metadata": {},
   "source": [
    "# Tokenize pre-mRNA sequences"
   ]
  },
  {
   "cell_type": "code",
   "execution_count": 1,
   "id": "adafa5f1-8526-4510-a410-a95b4c904dbf",
   "metadata": {
    "tags": []
   },
   "outputs": [
    {
     "name": "stderr",
     "output_type": "stream",
     "text": [
      "/opt/anaconda3/envs/torch201/lib/python3.11/site-packages/pandas/core/arrays/masked.py:60: UserWarning: Pandas requires version '1.3.6' or newer of 'bottleneck' (version '1.3.5' currently installed).\n",
      "  from pandas.core import (\n"
     ]
    }
   ],
   "source": [
    "from transformers import AutoTokenizer\n",
    "from datasets import load_dataset\n",
    "import multiprocessing as mp\n",
    "import pandas as pd\n",
    "import random\n",
    "import os"
   ]
  },
  {
   "cell_type": "code",
   "execution_count": 2,
   "id": "710334f4-8f97-4df5-8dcd-4de3efae8380",
   "metadata": {
    "tags": []
   },
   "outputs": [],
   "source": [
    "os.chdir('/picb/rnasys2/zhouhanwen/nucTran/github/')"
   ]
  },
  {
   "cell_type": "code",
   "execution_count": 3,
   "id": "58fc3eed-184a-450d-b440-4828de7ebada",
   "metadata": {
    "tags": []
   },
   "outputs": [],
   "source": [
    "# tokenizer\n",
    "tokenizer_path = 'tokenizer/single_nucleotide/'\n",
    "model_max_length = 1026\n",
    "tokenizer = AutoTokenizer.from_pretrained(tokenizer_path, model_max_length=model_max_length)"
   ]
  },
  {
   "cell_type": "code",
   "execution_count": 4,
   "id": "72118c87-e477-4129-af92-34fbdc57c818",
   "metadata": {
    "tags": []
   },
   "outputs": [],
   "source": [
    "def group_texts(examples):\n",
    "    tokenized_inputs = tokenizer(examples[\"seq\"], truncation=True, max_length=tokenizer.model_max_length)\n",
    "    tokenized_inputs[\"labels\"] = examples[\"label\"]\n",
    "    return tokenized_inputs"
   ]
  },
  {
   "cell_type": "code",
   "execution_count": 5,
   "id": "c141f90f-63de-40a4-b634-628c8dd5a87b",
   "metadata": {
    "tags": []
   },
   "outputs": [],
   "source": [
    "# paths of training set and testing set\n",
    "train_set_path = 'SpliceSitePrediction/data/SpliceAI/training/trainset_split_768.json'\n",
    "# path of saving file\n",
    "data_path = 'SpliceSitePrediction/data/SpliceAI/training/ss_single_nucleotide'"
   ]
  },
  {
   "cell_type": "code",
   "execution_count": 6,
   "id": "6fffdacc-3129-4c97-b938-3f9cdaed2a4e",
   "metadata": {
    "tags": []
   },
   "outputs": [
    {
     "name": "stderr",
     "output_type": "stream",
     "text": [
      "Found cached dataset json (/home/zhouhanwen/.cache/huggingface/datasets/json/default-dab8c03657eb5336/0.0.0/e347ab1c932092252e717ff3f949105a4dd28b27e842dd53157d2f72e276c2e4)\n"
     ]
    },
    {
     "data": {
      "application/vnd.jupyter.widget-view+json": {
       "model_id": "eba45d63b37f4929b0f874d68ff69a34",
       "version_major": 2,
       "version_minor": 0
      },
      "text/plain": [
       "  0%|          | 0/1 [00:00<?, ?it/s]"
      ]
     },
     "metadata": {},
     "output_type": "display_data"
    },
    {
     "name": "stderr",
     "output_type": "stream",
     "text": [
      "Loading cached processed dataset at /home/zhouhanwen/.cache/huggingface/datasets/json/default-dab8c03657eb5336/0.0.0/e347ab1c932092252e717ff3f949105a4dd28b27e842dd53157d2f72e276c2e4/cache-dc97da9d36cb8398_*_of_00160.arrow\n"
     ]
    },
    {
     "data": {
      "application/vnd.jupyter.widget-view+json": {
       "model_id": "",
       "version_major": 2,
       "version_minor": 0
      },
      "text/plain": [
       "Saving the dataset (0/160 shards):   0%|          | 0/949608 [00:00<?, ? examples/s]"
      ]
     },
     "metadata": {},
     "output_type": "display_data"
    },
    {
     "data": {
      "application/vnd.jupyter.widget-view+json": {
       "model_id": "",
       "version_major": 2,
       "version_minor": 0
      },
      "text/plain": [
       "Saving the dataset (0/160 shards):   0%|          | 0/951 [00:00<?, ? examples/s]"
      ]
     },
     "metadata": {},
     "output_type": "display_data"
    }
   ],
   "source": [
    "# This step takes ~10 mins. Please wait a moment.\n",
    "dataset = load_dataset(\"json\", data_files=train_set_path)\n",
    "data = dataset.map(group_texts, batched=True, num_proc=mp.cpu_count())\n",
    "data = data.remove_columns([\"seq\", \"label\"])\n",
    "data = data[\"train\"].train_test_split(test_size=0.001, shuffle=True, seed=42)\n",
    "data.save_to_disk(data_path, num_proc=mp.cpu_count())"
   ]
  },
  {
   "cell_type": "code",
   "execution_count": 7,
   "id": "de0da49a-a27f-4f80-abee-74284b844a87",
   "metadata": {
    "tags": []
   },
   "outputs": [
    {
     "data": {
      "text/plain": [
       "DatasetDict({\n",
       "    train: Dataset({\n",
       "        features: ['input_ids', 'attention_mask', 'labels'],\n",
       "        num_rows: 949608\n",
       "    })\n",
       "    test: Dataset({\n",
       "        features: ['input_ids', 'attention_mask', 'labels'],\n",
       "        num_rows: 951\n",
       "    })\n",
       "})"
      ]
     },
     "execution_count": 7,
     "metadata": {},
     "output_type": "execute_result"
    }
   ],
   "source": [
    "data"
   ]
  },
  {
   "cell_type": "code",
   "execution_count": null,
   "id": "7df99ec6-fa3b-48eb-84b7-76d05e5de8d1",
   "metadata": {},
   "outputs": [],
   "source": []
  }
 ],
 "metadata": {
  "kernelspec": {
   "display_name": "torch201",
   "language": "python",
   "name": "torch201"
  },
  "language_info": {
   "codemirror_mode": {
    "name": "ipython",
    "version": 3
   },
   "file_extension": ".py",
   "mimetype": "text/x-python",
   "name": "python",
   "nbconvert_exporter": "python",
   "pygments_lexer": "ipython3",
   "version": "3.11.8"
  }
 },
 "nbformat": 4,
 "nbformat_minor": 5
}
