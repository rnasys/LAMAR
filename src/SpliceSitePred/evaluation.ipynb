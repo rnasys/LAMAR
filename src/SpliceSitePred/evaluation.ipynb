{
 "cells": [
  {
   "cell_type": "markdown",
   "id": "d013d47c-f0c9-40bd-8811-ae6a2abc0564",
   "metadata": {},
   "source": [
    "# Evaluate the performance of LAMAR-SS in prediction of splice site"
   ]
  },
  {
   "cell_type": "code",
   "execution_count": 1,
   "id": "8770b09c-3f01-49ba-9a02-1fa49b4e4a13",
   "metadata": {
    "tags": []
   },
   "outputs": [
    {
     "name": "stderr",
     "output_type": "stream",
     "text": [
      "/opt/anaconda3/envs/torch201/lib/python3.11/site-packages/pandas/core/arrays/masked.py:60: UserWarning: Pandas requires version '1.3.6' or newer of 'bottleneck' (version '1.3.5' currently installed).\n",
      "  from pandas.core import (\n"
     ]
    }
   ],
   "source": [
    "from LAMAR.modeling_nucESM2 import EsmForTokenClassification\n",
    "from transformers import AutoConfig, AutoTokenizer, DataCollatorForTokenClassification, TrainingArguments, Trainer\n",
    "from safetensors.torch import load_file, load_model\n",
    "from sklearn.metrics import roc_auc_score, precision_recall_curve, auc\n",
    "import os\n",
    "import pandas as pd\n",
    "import torch\n",
    "from torch import nn\n",
    "import numpy as np\n",
    "import json\n",
    "import tqdm"
   ]
  },
  {
   "cell_type": "code",
   "execution_count": 2,
   "id": "9875da4c-d99d-47cb-a951-fe931fe89cdf",
   "metadata": {
    "tags": []
   },
   "outputs": [],
   "source": [
    "os.chdir('/picb/rnasys2/zhouhanwen/github/LAMAR/')"
   ]
  },
  {
   "cell_type": "code",
   "execution_count": 3,
   "id": "e54f2c2f-e02f-4931-9a14-95c7f265c7e2",
   "metadata": {
    "tags": []
   },
   "outputs": [],
   "source": [
    "tokenizer_path = 'tokenizer/single_nucleotide/'\n",
    "model_max_length = 1026\n",
    "model_name = 'config/config_150M.json'\n",
    "token_dropout = False\n",
    "positional_embedding_type = 'rotary'\n",
    "hidden_size = 768\n",
    "intermediate_size = 3072\n",
    "num_attention_heads = 12\n",
    "num_hidden_layers = 12\n",
    "nlabels = 3\n",
    "model_state_path = 'SpliceSitePred/saving_model/mammalian_4096/bs128_lr1e-4_wr0.05_4epochs/checkpoint-20000/model.safetensors'\n",
    "test_set_path = 'SpliceSitePred/data/gencode_test.json'"
   ]
  },
  {
   "cell_type": "code",
   "execution_count": 4,
   "id": "f48c02df-21ba-4daa-8e61-fce2aeb46a28",
   "metadata": {
    "tags": []
   },
   "outputs": [
    {
     "name": "stdout",
     "output_type": "stream",
     "text": [
      "Loading parameters of pretraining model: SpliceSitePred/saving_model/mammalian_4096/bs128_lr1e-4_wr0.05_4epochs/checkpoint-20000/model.safetensors\n"
     ]
    }
   ],
   "source": [
    "# Tokenizer\n",
    "tokenizer = AutoTokenizer.from_pretrained(tokenizer_path, model_max_length=model_max_length)\n",
    "\n",
    "# Config\n",
    "config = AutoConfig.from_pretrained(\n",
    "    model_name, vocab_size=len(tokenizer), pad_token_id=tokenizer.pad_token_id, mask_token_id=tokenizer.mask_token_id, num_labels=nlabels, \n",
    "    token_dropout=token_dropout, positional_embedding_type=positional_embedding_type, \n",
    "    hidden_size=hidden_size, intermediate_size=intermediate_size, num_attention_heads=num_attention_heads, num_hidden_layers=num_hidden_layers\n",
    ")\n",
    "\n",
    "# Model\n",
    "device = torch.device('cuda:0')\n",
    "model = EsmForTokenClassification(config)\n",
    "model = model.to(device)\n",
    "if model_state_path:\n",
    "    print(\"Loading parameters of pretraining model: {}\".format(model_state_path))\n",
    "    if model_state_path.endswith('.bin'):\n",
    "        model.load_state_dict(torch.load(model_state_path), strict=True)\n",
    "    elif model_state_path.endswith('.safetensors'):\n",
    "        load_model(model, filename=model_state_path, strict=False)"
   ]
  },
  {
   "cell_type": "code",
   "execution_count": 5,
   "id": "f296c17f-d74e-44a5-8bce-64d364caaf60",
   "metadata": {
    "tags": []
   },
   "outputs": [],
   "source": [
    "# evaluation metrics\n",
    "def compute_binary_prauc(true_label, pred_prob):\n",
    "    \"\"\"\n",
    "    Compute PRAUC for single label classification (binary).\n",
    "    Args:\n",
    "        true_label(np.array): true labels of sites\n",
    "        pred_prob(np.array): predicted probabilities of sites, seq len * 1\n",
    "    \"\"\"\n",
    "    precision, recall, _ = precision_recall_curve(true_label, pred_prob)\n",
    "    prauc = auc(recall, precision)\n",
    "    return prauc\n",
    "\n",
    "\n",
    "def compute_ovr_prauc(true_label, pred_prob):\n",
    "    \"\"\"\n",
    "    Compute PRAUC for single label classification (multi-class).\n",
    "    One vs Rest.\n",
    "    true_label(np.array): true labels of sites\n",
    "    pred_prob(np.array): predicted probabilities of sites, seq len * 3\n",
    "    \"\"\"\n",
    "    n_classes = pred_prob.shape[1]\n",
    "    praucs = []\n",
    "    for class_idx in range(n_classes):\n",
    "        prauc = compute_binary_prauc((true_label == class_idx).astype(int), pred_prob[:, class_idx])\n",
    "        praucs.append(prauc)\n",
    "    return praucs\n",
    "\n",
    "\n",
    "def compute_metrics(true_label, pred_prob):\n",
    "    \"\"\"\n",
    "    Compute top-K accuracy for single label (multi-class).\n",
    "    One vs Rest.\n",
    "    true_label(np.array): true labels of sites\n",
    "    pred_prob(np.array): predicted probabilities of sites, seq len * 3\n",
    "    \"\"\"\n",
    "    df = pd.DataFrame(pred_prob)\n",
    "    df['true_label'] = true_label\n",
    "    df = df[df[\"true_label\"] != -100]\n",
    "    counts = df['true_label'].value_counts().to_dict()\n",
    "    topk_accuracy = [sum((df.sort_values(by=k, ascending=False)[:v])['true_label'] == k) / v for k, v in counts.items()]\n",
    "    praucs = compute_ovr_prauc(df['true_label'].values, df[[0, 1, 2]].values)\n",
    "    return topk_accuracy, praucs"
   ]
  },
  {
   "cell_type": "code",
   "execution_count": 6,
   "id": "d554de61-df0c-4e6d-aef6-2187ac1f63f8",
   "metadata": {
    "tags": []
   },
   "outputs": [],
   "source": [
    "with open(test_set_path) as f:\n",
    "    test_set = json.load(f)"
   ]
  },
  {
   "cell_type": "code",
   "execution_count": 7,
   "id": "616d3431-46b9-483f-bc0c-610177ed7ea5",
   "metadata": {
    "tags": []
   },
   "outputs": [
    {
     "name": "stderr",
     "output_type": "stream",
     "text": [
      "100%|███████████████████████████████████████████████████████████████████████| 102905/102905 [00:00<00:00, 175101.99it/s]\n"
     ]
    }
   ],
   "source": [
    "seqs, true_labels = [], []\n",
    "for ele in tqdm.tqdm(test_set):\n",
    "    seqs.append(ele['seq'])\n",
    "    true_labels.extend(ele['label']) \n",
    "true_labels = np.array(true_labels)"
   ]
  },
  {
   "cell_type": "code",
   "execution_count": 8,
   "id": "72a2793e-0d18-4571-b95a-1b5471d09214",
   "metadata": {
    "tags": []
   },
   "outputs": [
    {
     "name": "stderr",
     "output_type": "stream",
     "text": [
      "100%|█████████████████████████████████████████████████████████████████████████| 102905/102905 [1:01:15<00:00, 28.00it/s]\n"
     ]
    }
   ],
   "source": [
    "softmax = nn.Softmax(dim=2)\n",
    "pred_labels, pred_probs = [], []\n",
    "model.eval()\n",
    "with torch.no_grad():\n",
    "    for seq in tqdm.tqdm(seqs):\n",
    "        batch = tokenizer(seq, return_tensors='pt', padding=True)\n",
    "        input_ids = batch['input_ids']\n",
    "        attention_mask = batch['attention_mask']\n",
    "\n",
    "        input_ids = input_ids.to(device)\n",
    "        attention_mask = attention_mask.to(device)\n",
    "\n",
    "        model_output = model(\n",
    "            input_ids = input_ids,\n",
    "            attention_mask = attention_mask,\n",
    "            position_ids = None,\n",
    "            head_mask = None,\n",
    "            inputs_embeds = None,\n",
    "            labels = None,\n",
    "            output_attentions = None,\n",
    "            output_hidden_states = None,\n",
    "            return_dict = None\n",
    "        )\n",
    "        batch_logits = model_output.logits\n",
    "        pred_probs.extend(softmax(batch_logits)[0].tolist())\n",
    "        pred_labels.extend(torch.argmax(batch_logits[0], dim=1).tolist())\n",
    "pred_probs = np.array(pred_probs)"
   ]
  },
  {
   "cell_type": "code",
   "execution_count": 9,
   "id": "7ca76bbc-4acf-47e7-b741-63809b4448b4",
   "metadata": {
    "tags": []
   },
   "outputs": [],
   "source": [
    "topk_accuracy, praucs = compute_metrics(true_labels, pred_probs)"
   ]
  },
  {
   "cell_type": "code",
   "execution_count": 10,
   "id": "18a141fa-ddb9-432d-9986-30a94d3f1aaa",
   "metadata": {
    "tags": []
   },
   "outputs": [],
   "source": [
    "topk_accuracy_mean = np.mean(topk_accuracy[1:])\n",
    "prauc_mean = np.mean(praucs[1:])\n",
    "result_df = pd.DataFrame({'topk_accuracy': topk_accuracy + [topk_accuracy_mean.tolist()], 'prauc': praucs + [prauc_mean.tolist()]})"
   ]
  },
  {
   "cell_type": "code",
   "execution_count": 11,
   "id": "59315def-368f-4d42-a646-458e8463fd80",
   "metadata": {
    "tags": []
   },
   "outputs": [
    {
     "data": {
      "text/html": [
       "<div>\n",
       "<style scoped>\n",
       "    .dataframe tbody tr th:only-of-type {\n",
       "        vertical-align: middle;\n",
       "    }\n",
       "\n",
       "    .dataframe tbody tr th {\n",
       "        vertical-align: top;\n",
       "    }\n",
       "\n",
       "    .dataframe thead th {\n",
       "        text-align: right;\n",
       "    }\n",
       "</style>\n",
       "<table border=\"1\" class=\"dataframe\">\n",
       "  <thead>\n",
       "    <tr style=\"text-align: right;\">\n",
       "      <th></th>\n",
       "      <th>topk_accuracy</th>\n",
       "      <th>prauc</th>\n",
       "    </tr>\n",
       "  </thead>\n",
       "  <tbody>\n",
       "    <tr>\n",
       "      <th>0</th>\n",
       "      <td>0.999974</td>\n",
       "      <td>1.000000</td>\n",
       "    </tr>\n",
       "    <tr>\n",
       "      <th>1</th>\n",
       "      <td>0.925957</td>\n",
       "      <td>0.965506</td>\n",
       "    </tr>\n",
       "    <tr>\n",
       "      <th>2</th>\n",
       "      <td>0.933917</td>\n",
       "      <td>0.971596</td>\n",
       "    </tr>\n",
       "    <tr>\n",
       "      <th>3</th>\n",
       "      <td>0.929937</td>\n",
       "      <td>0.968551</td>\n",
       "    </tr>\n",
       "  </tbody>\n",
       "</table>\n",
       "</div>"
      ],
      "text/plain": [
       "   topk_accuracy     prauc\n",
       "0       0.999974  1.000000\n",
       "1       0.925957  0.965506\n",
       "2       0.933917  0.971596\n",
       "3       0.929937  0.968551"
      ]
     },
     "execution_count": 11,
     "metadata": {},
     "output_type": "execute_result"
    }
   ],
   "source": [
    "result_df"
   ]
  },
  {
   "cell_type": "code",
   "execution_count": null,
   "id": "90e0354d-2013-4c39-b706-48c2a5968b06",
   "metadata": {},
   "outputs": [],
   "source": []
  }
 ],
 "metadata": {
  "kernelspec": {
   "display_name": "torch201",
   "language": "python",
   "name": "torch201"
  },
  "language_info": {
   "codemirror_mode": {
    "name": "ipython",
    "version": 3
   },
   "file_extension": ".py",
   "mimetype": "text/x-python",
   "name": "python",
   "nbconvert_exporter": "python",
   "pygments_lexer": "ipython3",
   "version": "3.11.8"
  }
 },
 "nbformat": 4,
 "nbformat_minor": 5
}
