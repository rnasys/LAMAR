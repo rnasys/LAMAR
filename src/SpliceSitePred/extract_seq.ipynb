{
 "cells": [
  {
   "cell_type": "markdown",
   "id": "1c9cfd8c-58d8-4384-8874-18a7bece3482",
   "metadata": {},
   "source": [
    "# Extract pre-mRNA sequences from the referenced genome Hg19"
   ]
  },
  {
   "cell_type": "code",
   "execution_count": 1,
   "id": "a82cd687-7931-496f-b3c0-ac82278fe423",
   "metadata": {
    "tags": []
   },
   "outputs": [
    {
     "name": "stderr",
     "output_type": "stream",
     "text": [
      "/opt/anaconda3/envs/torch201/lib/python3.11/site-packages/pandas/core/arrays/masked.py:60: UserWarning: Pandas requires version '1.3.6' or newer of 'bottleneck' (version '1.3.5' currently installed).\n",
      "  from pandas.core import (\n"
     ]
    }
   ],
   "source": [
    "import pandas as pd\n",
    "import numpy as np\n",
    "import os"
   ]
  },
  {
   "cell_type": "code",
   "execution_count": 2,
   "id": "e3804987-21c1-40d0-8a4e-496f4ce71a1a",
   "metadata": {
    "tags": []
   },
   "outputs": [],
   "source": [
    "os.chdir('/picb/rnasys2/zhouhanwen/github/LAMAR/SpliceSitePred/data/')"
   ]
  },
  {
   "cell_type": "code",
   "execution_count": 3,
   "id": "ddf58548-8663-486e-bbe3-1547b5188529",
   "metadata": {
    "tags": []
   },
   "outputs": [],
   "source": [
    "def generate_bed(input_path, output_path):\n",
    "    info_df = pd.read_csv(input_path, sep='\\t')\n",
    "    bed_df = info_df[['chrom', 'txStart', 'txEnd', '#name']].copy()\n",
    "    bed_df['txStart'] = bed_df['txStart'] - 1\n",
    "    bed_df['c4'] = '.'\n",
    "    bed_df['strand'] = info_df['strand']\n",
    "    bed_df.to_csv(output_path, sep='\\t', header=False, index=False)"
   ]
  },
  {
   "cell_type": "code",
   "execution_count": 4,
   "id": "c0653630-9652-4dd3-9e9d-e44fe3088b10",
   "metadata": {
    "tags": []
   },
   "outputs": [],
   "source": [
    "generate_bed('gencode_train.tsv', 'gencode_train.bed')\n",
    "generate_bed('gencode_test.tsv', 'gencode_test.bed')"
   ]
  },
  {
   "cell_type": "markdown",
   "id": "a1ed3c7d-71ee-4018-b3a1-2dde2850a05c",
   "metadata": {
    "tags": []
   },
   "source": [
    "```shell\n",
    "bedtools getfasta -fi /picb/rnasys2/zhouhanwen/biodb/gencode/human/genome/hg19/GRCh37.primary_assembly.genome.fa -bed gencode_train.bed -fo gencode_train.fa -name -s\n",
    "bedtools getfasta -fi /picb/rnasys2/zhouhanwen/biodb/gencode/human/genome/hg19/GRCh37.primary_assembly.genome.fa -bed gencode_test.bed -fo gencode_test.fa -name -s\n",
    "```"
   ]
  },
  {
   "cell_type": "code",
   "execution_count": null,
   "id": "5288de32-6811-4bc5-85f9-b0b20258af05",
   "metadata": {},
   "outputs": [],
   "source": []
  }
 ],
 "metadata": {
  "kernelspec": {
   "display_name": "torch201",
   "language": "python",
   "name": "torch201"
  },
  "language_info": {
   "codemirror_mode": {
    "name": "ipython",
    "version": 3
   },
   "file_extension": ".py",
   "mimetype": "text/x-python",
   "name": "python",
   "nbconvert_exporter": "python",
   "pygments_lexer": "ipython3",
   "version": "3.11.8"
  }
 },
 "nbformat": 4,
 "nbformat_minor": 5
}
